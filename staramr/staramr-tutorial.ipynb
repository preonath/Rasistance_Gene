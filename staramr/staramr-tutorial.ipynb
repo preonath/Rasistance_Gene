{
 "cells": [
  {
   "cell_type": "code",
   "execution_count": 2,
   "metadata": {},
   "outputs": [
    {
     "name": "stdout",
     "output_type": "stream",
     "text": [
      "(staramr) \n"
     ]
    },
    {
     "ename": "",
     "evalue": "1",
     "output_type": "error",
     "traceback": []
    }
   ],
   "source": [
    "conda activate staramr"
   ]
  },
  {
   "cell_type": "markdown",
   "metadata": {},
   "source": [
    "# Command-line staramr tutorial\n",
    "\n",
    "This tutorial will walk you through running `staramr` on some example genomes to investigate AMR genes and point mutations.  The data we will use are two RefSeq assemblies that are available on NCBI: [GCF_001478105.1](https://www.ncbi.nlm.nih.gov/assembly/GCA_001478105.1) and [GCF_001931595.1](https://www.ncbi.nlm.nih.gov/assembly/GCA_001931595.1).\n",
    "\n",
    "## Step 1: Download input files\n",
    "\n",
    "Start by creating a folder where we will download the files and run `staramr`:"
   ]
  },
  {
   "cell_type": "code",
   "execution_count": 3,
   "metadata": {},
   "outputs": [
    {
     "name": "stdout",
     "output_type": "stream",
     "text": [
      "(staramr) \n"
     ]
    },
    {
     "ename": "",
     "evalue": "1",
     "output_type": "error",
     "traceback": []
    }
   ],
   "source": [
    "mkdir staramr_tutorial"
   ]
  },
  {
   "cell_type": "markdown",
   "metadata": {},
   "source": [
    "Head to the folder by using the following command:"
   ]
  },
  {
   "cell_type": "code",
   "execution_count": 4,
   "metadata": {},
   "outputs": [
    {
     "name": "stdout",
     "output_type": "stream",
     "text": [
      "(staramr) \n"
     ]
    },
    {
     "ename": "",
     "evalue": "1",
     "output_type": "error",
     "traceback": []
    }
   ],
   "source": [
    "cd staramr_tutorial"
   ]
  },
  {
   "cell_type": "markdown",
   "metadata": {},
   "source": [
    "You may download the input files with the following commands:"
   ]
  },
  {
   "cell_type": "code",
   "execution_count": 5,
   "metadata": {},
   "outputs": [
    {
     "name": "stdout",
     "output_type": "stream",
     "text": [
      "--2023-01-30 22:55:38--  ftp://ftp.ncbi.nlm.nih.gov/genomes/all/GCF/001/478/105/GCF_001478105.1_Salmonella_enterica_CVM_N31384-SQ_v1.0/GCF_001478105.1_Salmonella_enterica_CVM_N31384-SQ_v1.0_genomic.fna.gz\n",
      "           => 'GCF_001478105.1.fasta.gz'\n",
      "Resolving ftp.ncbi.nlm.nih.gov (ftp.ncbi.nlm.nih.gov)... 130.14.250.7, 130.14.250.10, 2607:f220:41e:250::7, ...\n",
      "Connecting to ftp.ncbi.nlm.nih.gov (ftp.ncbi.nlm.nih.gov)|130.14.250.7|:21... connected.\n",
      "Logging in as anonymous ... Logged in!\n",
      "==> SYST ... done.    ==> PWD ... done.\n",
      "==> TYPE I ... done.  ==> CWD (1) /genomes/all/GCF/001/478/105/GCF_001478105.1_Salmonella_enterica_CVM_N31384-SQ_v1.0 ... done.\n",
      "==> SIZE GCF_001478105.1_Salmonella_enterica_CVM_N31384-SQ_v1.0_genomic.fna.gz ... 1454519\n",
      "==> PASV ... done.    ==> RETR GCF_001478105.1_Salmonella_enterica_CVM_N31384-SQ_v1.0_genomic.fna.gz ... done.\n",
      "Length: 1454519 (1.4M) (unauthoritative)\n",
      "\n",
      "GCF_001478105.1_Sal 100%[===================>]   3.69M   318KB/s    in 16s     \n",
      "\n",
      "2023-01-30 22:55:59 (238 KB/s) - 'GCF_001478105.1.fasta.gz' saved [3867439]\n",
      "\n",
      "(staramr) \n",
      "\n",
      "gzip: GCF_001478105.1.fasta.gz: invalid compressed data--format violated\n",
      "(staramr) \n",
      "(staramr) \n",
      "--2023-01-30 22:55:59--  ftp://ftp.ncbi.nlm.nih.gov/genomes/all/GCF/001/931/595/GCF_001931595.1_ASM193159v1/GCF_001931595.1_ASM193159v1_genomic.fna.gz\n",
      "           => 'GCF_001931595.1.fasta.gz'\n",
      "Resolving ftp.ncbi.nlm.nih.gov (ftp.ncbi.nlm.nih.gov)... 130.14.250.10, 130.14.250.7, 2607:f220:41e:250::7, ...\n",
      "Connecting to ftp.ncbi.nlm.nih.gov (ftp.ncbi.nlm.nih.gov)|130.14.250.10|:21... connected.\n",
      "Logging in as anonymous ... Logged in!\n",
      "==> SYST ... done.    ==> PWD ... done.\n",
      "==> TYPE I ... done.  ==> CWD (1) /genomes/all/GCF/001/931/595/GCF_001931595.1_ASM193159v1 ... done.\n",
      "==> SIZE GCF_001931595.1_ASM193159v1_genomic.fna.gz ... 1498342\n",
      "==> PASV ... done.    ==> RETR GCF_001931595.1_ASM193159v1_genomic.fna.gz ... done.\n",
      "Length: 1498342 (1.4M) (unauthoritative)\n",
      "\n",
      "GCF_001931595.1_ASM 100%[===================>]   1.43M   326KB/s    in 4.8s    \n",
      "\n",
      "2023-01-30 22:56:09 (303 KB/s) - 'GCF_001931595.1.fasta.gz' saved [1498342]\n",
      "\n",
      "(staramr) \n",
      "(staramr) \n"
     ]
    },
    {
     "ename": "",
     "evalue": "1",
     "output_type": "error",
     "traceback": []
    }
   ],
   "source": [
    "wget -O GCF_001478105.1.fasta.gz ftp://ftp.ncbi.nlm.nih.gov/genomes/all/GCF/001/478/105/GCF_001478105.1_Salmonella_enterica_CVM_N31384-SQ_v1.0/GCF_001478105.1_Salmonella_enterica_CVM_N31384-SQ_v1.0_genomic.fna.gz\n",
    "gunzip GCF_001478105.1.fasta.gz\n",
    "\n",
    "wget -O GCF_001931595.1.fasta.gz ftp://ftp.ncbi.nlm.nih.gov/genomes/all/GCF/001/931/595/GCF_001931595.1_ASM193159v1/GCF_001931595.1_ASM193159v1_genomic.fna.gz\n",
    "gunzip GCF_001931595.1.fasta.gz"
   ]
  },
  {
   "cell_type": "markdown",
   "metadata": {},
   "source": [
    "Now we have some files to work with:"
   ]
  },
  {
   "cell_type": "code",
   "execution_count": 6,
   "metadata": {},
   "outputs": [
    {
     "name": "stdout",
     "output_type": "stream",
     "text": [
      "GCF_001478105.1.fasta.gz  GCF_001931595.1.fasta\n",
      "(staramr) \n"
     ]
    },
    {
     "ename": "",
     "evalue": "1",
     "output_type": "error",
     "traceback": []
    }
   ],
   "source": [
    "ls"
   ]
  },
  {
   "cell_type": "markdown",
   "metadata": {},
   "source": [
    "## Step 2: Run staramr\n",
    "\n",
    "Now that we have some assembled genomes to work with, let's run `staramr`.\n",
    "\n",
    "First, lets check what version of databases we are using:"
   ]
  },
  {
   "cell_type": "code",
   "execution_count": 7,
   "metadata": {},
   "outputs": [
    {
     "name": "stdout",
     "output_type": "stream",
     "text": [
      "resfinder_db_dir              = /home/preonath/miniconda3/envs/staramr/lib/python3.11/site-packages/staramr/databases/data/dist/resfinder\n",
      "resfinder_db_url              = https://bitbucket.org/genomicepidemiology/resfinder_db.git\n",
      "resfinder_db_commit           = fa32d9a3cf0c12ec70ca4e90c45c0d590ee810bd\n",
      "resfinder_db_date             = Tue, 24 May 2022 06:51\n",
      "pointfinder_db_dir            = /home/preonath/miniconda3/envs/staramr/lib/python3.11/site-packages/staramr/databases/data/dist/pointfinder\n",
      "pointfinder_db_url            = https://bitbucket.org/genomicepidemiology/pointfinder_db.git\n",
      "pointfinder_db_commit         = 8c694b9f336153e6d618b897b3b4930961521eb8\n",
      "pointfinder_db_date           = Mon, 01 Feb 2021 15:46\n",
      "pointfinder_organisms_all     = campylobacter, enterococcus_faecalis, enterococcus_faecium, escherichia_coli, helicobacter_pylori, klebsiella, mycobacterium_tuberculosis, neisseria_gonorrhoeae, plasmodium_falciparum, salmonella, staphylococcus_aureus\n",
      "pointfinder_organisms_valid   = campylobacter, enterococcus_faecalis, enterococcus_faecium, escherichia_coli, helicobacter_pylori, salmonella\n",
      "plasmidfinder_db_dir          = /home/preonath/miniconda3/envs/staramr/lib/python3.11/site-packages/staramr/databases/data/dist/plasmidfinder\n",
      "plasmidfinder_db_url          = https://bitbucket.org/genomicepidemiology/plasmidfinder_db.git\n",
      "plasmidfinder_db_commit       = 1a443a19a1142aa1018ef62f0bdbfd871b79eab6\n",
      "plasmidfinder_db_date         = Mon, 29 Nov 2021 10:59\n",
      "mlst_version                  = 2.23.0\n",
      "pointfinder_gene_drug_version = 072621.1\n",
      "resfinder_gene_drug_version   = 072621\n",
      "(staramr) \n"
     ]
    },
    {
     "ename": "",
     "evalue": "1",
     "output_type": "error",
     "traceback": []
    }
   ],
   "source": [
    "staramr db info"
   ]
  },
  {
   "cell_type": "markdown",
   "metadata": {},
   "source": [
    "Everything looks good there. Now, let's run `staramr`:"
   ]
  },
  {
   "cell_type": "code",
   "execution_count": 8,
   "metadata": {},
   "outputs": [
    {
     "name": "stdout",
     "output_type": "stream",
     "text": [
      "\u001b[32m2023-01-30 22:56:42\u001b[0m \u001b[1;30mINFO:\u001b[0m No --plasmidfinder-database-type specified. Will search the entire PlasmidFinder database\n",
      "\u001b[32m2023-01-30 22:56:42\u001b[0m \u001b[1;30mINFO:\u001b[0m --output-dir set. All files will be output to [out]\n",
      "\u001b[32m2023-01-30 22:56:42\u001b[0m \u001b[1;30mINFO:\u001b[0m Will exclude ResFinder/PointFinder genes listed in [/home/preonath/miniconda3/envs/staramr/lib/python3.11/site-packages/staramr/databases/exclude/data/genes_to_exclude.tsv]. Use --no-exclude-genes to disable\n",
      "\u001b[32m2023-01-30 22:56:42\u001b[0m \u001b[1;30mINFO:\u001b[0m Making BLAST databases for input files\n",
      "\u001b[32m2023-01-30 22:56:43\u001b[0m \u001b[1;30mINFO:\u001b[0m Scheduling blasts and MLST for GCF_001931595.1.fasta\n",
      "\u001b[32m2023-01-30 22:56:45\u001b[0m \u001b[1;30mINFO:\u001b[0m Finished. Took 0.05 minutes.\n",
      "\u001b[32m2023-01-30 22:56:45\u001b[0m \u001b[1;30mINFO:\u001b[0m Predicting AMR resistance phenotypes is enabled. The predictions are for microbiological resistance and *not* clinical resistance. These results are continually being improved and we welcome any feedback.\n",
      "\u001b[32m2023-01-30 22:56:45\u001b[0m \u001b[1;30mINFO:\u001b[0m Writing resfinder to [out/resfinder.tsv]\n",
      "\u001b[32m2023-01-30 22:56:45\u001b[0m \u001b[1;30mINFO:\u001b[0m Writing pointfinder to [out/pointfinder.tsv]\n",
      "\u001b[32m2023-01-30 22:56:45\u001b[0m \u001b[1;30mINFO:\u001b[0m Writing plasmidfinder to [out/plasmidfinder.tsv]\n",
      "\u001b[32m2023-01-30 22:56:45\u001b[0m \u001b[1;30mINFO:\u001b[0m Writing summary to [out/summary.tsv]\n",
      "\u001b[32m2023-01-30 22:56:45\u001b[0m \u001b[1;30mINFO:\u001b[0m Writing MLST summary to [out/mlst.tsv]\n",
      "\u001b[32m2023-01-30 22:56:45\u001b[0m \u001b[1;30mINFO:\u001b[0m Writing detailed summary to [out/detailed_summary.tsv]\n",
      "\u001b[32m2023-01-30 22:56:45\u001b[0m \u001b[1;30mINFO:\u001b[0m Writing settings to [out/settings.txt]\n",
      "\u001b[32m2023-01-30 22:56:45\u001b[0m \u001b[1;30mINFO:\u001b[0m Writing Excel to [out/results.xlsx]\n",
      "/home/preonath/miniconda3/envs/staramr/lib/python3.11/site-packages/staramr/subcommand/Search.py:544: FutureWarning: DataFrame.set_axis 'inplace' keyword is deprecated and will be removed in a future version. Use `obj = obj.set_axis(..., copy=False)` instead\n",
      "  settings_dataframe.set_axis(['Value'], axis='columns', inplace=True)\n",
      "/home/preonath/miniconda3/envs/staramr/lib/python3.11/site-packages/staramr/subcommand/Search.py:200: FutureWarning: save is not part of the public API, usage can give unexpected results and will be removed in a future version\n",
      "  writer.save()\n",
      "\u001b[32m2023-01-30 22:56:45\u001b[0m \u001b[1;30mINFO:\u001b[0m BLAST hits are stored in [out/hits]\n",
      "(staramr) \n"
     ]
    },
    {
     "ename": "",
     "evalue": "1",
     "output_type": "error",
     "traceback": []
    }
   ],
   "source": [
    "staramr search --pointfinder-organism salmonella -o out *.fasta"
   ]
  },
  {
   "cell_type": "markdown",
   "metadata": {},
   "source": [
    "There, that wasn't too long.\n",
    "\n",
    "## Step 3: Examine results\n",
    "\n",
    "Now, let's inspect some of the results. First, let's look at what files were produced:"
   ]
  },
  {
   "cell_type": "code",
   "execution_count": 9,
   "metadata": {},
   "outputs": [
    {
     "name": "stdout",
     "output_type": "stream",
     "text": [
      "detailed_summary.tsv  plasmidfinder.tsv  results.xlsx\n",
      "hits                  pointfinder.tsv    settings.txt\n",
      "mlst.tsv              resfinder.tsv      summary.tsv\n",
      "(staramr) \n"
     ]
    },
    {
     "ename": "",
     "evalue": "1",
     "output_type": "error",
     "traceback": []
    }
   ],
   "source": [
    "ls out/"
   ]
  },
  {
   "cell_type": "markdown",
   "metadata": {},
   "source": [
    "The __*.tsv__ files contain the primary results we're interested in. The **settings.txt** file contains all the settings used to run `staramr`. The **results.xlsx** file contains all the previous files as separate worksheets in an Excel file. And the **hits/** directory contains the AMR gene hits as FASTA files.\n",
    "\n",
    "Let's take a look at these files in turn.\n",
    "\n",
    "_Note that the command `column -s$'\\t' -t file.tsv` is used. This command aligns the columns and prints a table `-t` using a tab character as the delimiter `-s$'\\t'`._"
   ]
  },
  {
   "cell_type": "code",
   "execution_count": 10,
   "metadata": {},
   "outputs": [
    {
     "name": "stdout",
     "output_type": "stream",
     "text": [
      "Isolate ID       Quality Module  Genotype                                                                                             Predicted Phenotype                                                                                                                                                    Plasmid          Scheme               Sequence Type  Genome Length  N50 value  Number of Contigs Greater Than Or Equal To 300 bp  Quality Module Feedback\n",
      "GCF_001931595.1  Passed          aac(3)-IV, aph(3')-Ia, aph(4)-Ia, blaCTX-M-65, dfrA14, floR, gyrA (D87Y), parC (T57S), sul1, tet(A)  gentamicin, tobramycin, kanamycin, hygromycin, ampicillin, ceftriaxone, trimethoprim, chloramphenicol, ciprofloxacin I/R, nalidixic acid, sulfisoxazole, tetracycline  IncFIB(pN55391)  senterica_achtman_2  32             5043928        4727114    2                                                  \n",
      "(staramr) \n"
     ]
    },
    {
     "ename": "",
     "evalue": "1",
     "output_type": "error",
     "traceback": []
    }
   ],
   "source": [
    "column -s$'\\t' -t out/summary.tsv"
   ]
  },
  {
   "cell_type": "markdown",
   "metadata": {},
   "source": [
    "Let's try and split up the table a bit to display better in GitHub."
   ]
  },
  {
   "cell_type": "code",
   "execution_count": 11,
   "metadata": {},
   "outputs": [
    {
     "name": "stdout",
     "output_type": "stream",
     "text": [
      "(staramr) \n",
      "Isolate ID       Quality Module\n",
      "GCF_001931595.1  Passed\n",
      "(staramr) \n"
     ]
    },
    {
     "ename": "",
     "evalue": "1",
     "output_type": "error",
     "traceback": []
    }
   ],
   "source": [
    "# Show only Genotype\n",
    "cut -f 1,2 out/summary.tsv | column -s$'\\t' -t"
   ]
  },
  {
   "cell_type": "code",
   "execution_count": 12,
   "metadata": {},
   "outputs": [
    {
     "name": "stdout",
     "output_type": "stream",
     "text": [
      "(staramr) \n",
      "Isolate ID       Genotype\n",
      "GCF_001931595.1  aac(3)-IV, aph(3')-Ia, aph(4)-Ia, blaCTX-M-65, dfrA14, floR, gyrA (D87Y), parC (T57S), sul1, tet(A)\n",
      "(staramr) \n"
     ]
    },
    {
     "ename": "",
     "evalue": "1",
     "output_type": "error",
     "traceback": []
    }
   ],
   "source": [
    "# Show only Predicted Phenotype\n",
    "cut -f 1,3 out/summary.tsv | column -s$'\\t' -t"
   ]
  },
  {
   "cell_type": "code",
   "execution_count": 13,
   "metadata": {},
   "outputs": [
    {
     "name": "stdout",
     "output_type": "stream",
     "text": [
      "(staramr) \n",
      "Isolate ID       Predicted Phenotype\n",
      "GCF_001931595.1  gentamicin, tobramycin, kanamycin, hygromycin, ampicillin, ceftriaxone, trimethoprim, chloramphenicol, ciprofloxacin I/R, nalidixic acid, sulfisoxazole, tetracycline\n",
      "(staramr) \n"
     ]
    },
    {
     "ename": "",
     "evalue": "1",
     "output_type": "error",
     "traceback": []
    }
   ],
   "source": [
    "# Show only Plasmid\n",
    "cut -f 1,4 out/summary.tsv | column -s$'\\t' -t"
   ]
  },
  {
   "cell_type": "code",
   "execution_count": 14,
   "metadata": {},
   "outputs": [
    {
     "name": "stdout",
     "output_type": "stream",
     "text": [
      "(staramr) \n",
      "Isolate ID       Plasmid          Scheme\n",
      "GCF_001931595.1  IncFIB(pN55391)  senterica_achtman_2\n",
      "(staramr) \n"
     ]
    },
    {
     "ename": "",
     "evalue": "1",
     "output_type": "error",
     "traceback": []
    }
   ],
   "source": [
    "# Show only Multilocus Sequence Typing Results\n",
    "cut -f 1,5,6 out/summary.tsv | column -s$'\\t' -t"
   ]
  },
  {
   "cell_type": "markdown",
   "metadata": {},
   "source": [
    "This file **summary.tsv** contains a summary of all the results in a single table, one genome per line. According to these results, the genomes *GCF_001478105.1* and *GCF_001931595.1* contain the listed AMR genes under **Genotype** and are resistant to the listed drugs under **Predicted Phenotype**. This also includes Plasmid types that were found in the genomes as well."
   ]
  },
  {
   "cell_type": "code",
   "execution_count": 15,
   "metadata": {},
   "outputs": [
    {
     "name": "stdout",
     "output_type": "stream",
     "text": [
      "(staramr) \n",
      "Isolate ID       Gene         Predicted Phenotype      %Identity  %Overlap  HSP Length/Total Length  Contig              Start   End     Accession  Sequence\n",
      "GCF_001931595.1  aac(3)-IV    gentamicin, tobramycin   100.00     100.00    777/777                  ref|NZ_CP016411.1|  292669  291893  DQ241380   GTGCAATACGAATGGCGAAAAGCCGAGCTCATCGGTCAGCTTCTCAACCTTGGGGTTACCCCCGGCGGTGTGCTGCTGGTCCACAGCTCCTTCCGTAGCGTCCGGCCCCTCGAAGATGGGCCACTTGGACTGATCGAGGCCCTGCGTGCTGCGCTGGGTCCGGGAGGGACGCTCGTCATGCCCTCGTGGTCAGGTCTGGACGACGAGCCGTTCGATCCTGCCACGTCGCCCGTTACACCGGACCTTGGAGTTGTCTCTGACACATTCTGGCGCCTGCCAAATGTAAAGCGCAGCGCCCATCCATTTGCCTTTGCGGCAGCGGGGCCACAGGCAGAGCAGATCATCTCTGATCCATTGCCCCTGCCACCTCACTCGCCTGCAAGCCCGGTCGCCCGTGTCCATGAACTCGATGGGCAGGTACTTCTCCTCGGCGTGGGACACGATGCCAACACGACGCTGCATCTTGCCGAGTTGATGGCAAAGGTTCCCTATGGGGTGCCGAGACACTGCACCATTCTTCAGGATGGCAAGTTGGTACGCGTCGATTATCTCGAGAATGACCACTGCTGTGAGCGCTTTGCCTTGGCGGACAGGTGGCTCAAGGAGAAGAGCCTTCAGAAGGAAGGTCCAGTCGGTCATGCCTTTGCTCGGTTGATCCGCTCCCGCGACATTGTGGCGACAGCCCTGGGTCAACTGGGCCGAGATCCGTTGATCTTCCTGCATCCGCCAGAGGCGGGATGCGAAGAATGCGATGCCGCTCGCCAGTCGATTGGCTGA\n",
      "GCF_001931595.1  aph(3')-Ia   kanamycin                100.00     100.00    816/816                  ref|NZ_CP016411.1|  300747  301562  X62115     ATGAGCCATATTCAACGGGAAACGTCTTGCTCGAGGCCGCGATTAAATTCCAACCTGGATGCTGATTTATATGGGTATAGATGGGCTCGCGATAATGTCGGGCAATCAGGTGCGACAATCTATCGATTGTATGGGAAGCCCAATGCGCCAGAGTTGTTTCTGAAACATGGCAAAGGTAGCGTTGCCAATGATGTTACAGATGAGATGGTCAGACTAAACTGGCTGACGGCATTTATGCCTCTTCCGACCATCAAGCATTTTATCCGTACTCCTGATGATGCATGGTTACTCACCACTGCGATCCCCGGGAAAACAGCATTCCAGGTATTAGAAGAATATCCTGATTCAGGTGAAAATATTGTTGATGCGCTGGCAGTGTTCCTGCGCCGGTTGCATTCGATTCCTGTTTGTAATTGTCCTTTTAACAGCGATCGCGTATTTCGTCTCGCTCAGGCGCAATCACGAATGAATAACGGTTTGGTTGATGCTAGTGATTTTGATGACGAGCGTAATGGCTGGCCTGTTGAACAAGTCTGGAAAGAAATGCATAAGCTTTTGCCATTCTCACCGGATTCAGTCGTCACTCATGGTGATTTCTCACTTGATAACCTTATTTTTGACGAGGGGAAATTAATAGGTTGTATTGATGTTGGACGAGTCGGAATCGCAGACCGATACCAGGATCTTGCCATCCTATGGAACTGCCTCGGTGAGTTTTCTCCTTCATTACAGAAACGGCTTTTTCAAAAATATGGTATTGATAATCCTGATATGAATAAATTGCAGTTTCATTTGATGCTCGATGAGTTTTTCTGA\n",
      "GCF_001931595.1  aph(4)-Ia    hygromycin               100.00     100.00    1026/1026                ref|NZ_CP016411.1|  291664  290639  V01499     ATGAAAAAGCCTGAACTCACCGCGACGTCTGTCGAGAAGTTTCTGATCGAAAAGTTCGACAGCGTCTCCGACCTGATGCAGCTCTCGGAGGGCGAAGAATCTCGTGCTTTCAGCTTCGATGTAGGAGGGCGTGGATATGTCCTGCGGGTAAATAGCTGCGCCGATGGTTTCTACAAAGATCGTTATGTTTATCGGCACTTTGCATCGGCCGCGCTCCCGATTCCGGAAGTGCTTGACATTGGGGAATTCAGCGAGAGCCTGACCTATTGCATCTCCCGCCGTGCACAGGGTGTCACGTTGCAAGACCTGCCTGAAACCGAACTGCCCGCTGTTCTGCAGCCGGTCGCGGAGGCCATGGATGCGATCGCTGCGGCCGATCTTAGCCAGACGAGCGGGTTCGGCCCATTCGGACCGCAAGGAATCGGTCAATACACTACATGGCGTGATTTCATATGCGCGATTGCTGATCCCCATGTGTATCACTGGCAAACTGTGATGGACGACACCGTCAGTGCGTCCGTCGCGCAGGCTCTCGATGAGCTGATGCTTTGGGCCGAGGACTGCCCCGAAGTCCGGCACCTCGTGCACGCGGATTTCGGCTCCAACAATGTCCTGACGGACAATGGCCGCATAACAGCGGTCATTGACTGGAGCGAGGCGATGTTCGGGGATTCCCAATACGAGGTCGCCAACATCTTCTTCTGGAGGCCGTGGTTGGCTTGTATGGAGCAGCAGACGCGCTACTTCGAGCGGAGGCATCCGGAGCTTGCAGGATCGCCGCGGCTCCGGGCGTATATGCTCCGCATTGGTCTTGACCAACTCTATCAGAGCTTGGTTGACGGCAATTTCGATGATGCAGCTTGGGCGCAGGGTCGATGCGACGCAATCGTCCGATCCGGAGCCGGGACTGTCGGGCGTACACAAATCGCCCGCAGAAGCGCGGCCGTCTGGACCGATGGCTGTGTAGAAGTACTCGCCGATAGTGGAAACCGACGCCCCAGCACTCGTCCGAGGGCAAAGGAATAG\n",
      "GCF_001931595.1  blaCTX-M-65  ampicillin, ceftriaxone  100.00     100.00    876/876                  ref|NZ_CP016411.1|  276137  277012  EF418608   ATGGTGACAAAGAGAGTGCAACGGATGATGTTCGCGGCGGCGGCGTGCATTCCGCTGCTGCTGGGCAGCGCGCCGCTTTATGCGCAGACGAGTGCGGTGCAGCAAAAGCTGGCGGCGCTGGAGAAAAGCAGCGGAGGGCGGCTGGGCGTCGCGCTCATCGATACCGCAGATAATACGCAGGTGCTTTATCGCGGTGATGAACGCTTTCCAATGTGCAGTACCAGTAAAGTTATGGCGGTCGCGGCGGTGCTTAAGCAGAGTGAAACGCAAAAGCAGCTGCTTAATCAGCCTGTCGAGATCAAGCCTGCCGATCTGGTTAACTACAATCCGATTGCCGAAAAACACGTCAACGGCACAATGACGCTGGCAGAACTGAGCGCGGCCGCGTTGCAGTACAGCGACAATACCGCCATGAACAAATTGATTGCCCAGCTCGGTGGCCCGGGAGGCGTGACGGCTTTTGCCCGCGCGATCGGCGATGAGACGTTTCGTCTGGATCGCACTGAACCTACGCTGAATACCGCCATTCCCGGCGACCCGAGAGACACCACCACGCCGCGGGCGATGGCGCAGACGTTGCGTCAGCTTACGCTGGGTCATGCGCTGGGCGAAACCCAGCGGGCGCAGTTGGTGACGTGGCTCAAAGGCAATACGACCGGCGCAGCCAGCATTCGGGCCGGCTTACCGACGTCGTGGACTGTGGGTGATAAGACCGGCAGCGGCGACTACGGCACCACCAATGATATTGCGGTGATCTGGCCGCAGGGTCGTGCGCCGCTGGTTCTGGTGACCTATTTTACCCAGCCGCAACAGAACGCAGAGCGCCGCCGCGATGTGCTGGCTTCAGCGGCGAGAATCATCGCCGAAGGGCTGTAA\n",
      "GCF_001931595.1  dfrA14       trimethoprim             100.00     100.00    474/474                  ref|NZ_CP016411.1|  295762  296235  AF393510   TTGAAAGTATCATTGATAGCTGCGAAAGCGAAAAACGGCGTGATTGGTTGCGGTCCAGACATACCCTGGTCCGCGAAAGGGGAGCAGCTACTTTTTAAAGCATTGACCTACAATCAGTGGCTTCTGGTGGGTCGCAAGACGTTTGAATCTATGGGCGCACTCCCCAATAGGAAATACGCGGTCGTTACCCGCTCAGGTTGGACATCAAATGATGACAATGTAGTTGTATTTCAGTCAATCGAAGAGGCCATGGACAGGCTAGCTGAATTCACCGGTCACGTTATAGTGTCTGGTGGCGGAGAAATTTACCGAGAAACATTACCCATGGCCTCTACGCTCCACTTATCGACGATCGACATCGAGCCAGAGGGGGATGTTTTCTTCCCGAGTATTCCAAATACCTTCGAAGTTGTTTTTGAGCAACACTTTACTTCAAACATTAACTATTGCTATCAAATTTGGAAAAAGGGTTAA\n",
      "GCF_001931595.1  floR         chloramphenicol          98.19      99.92     1214/1215                ref|NZ_CP016411.1|  282827  284040  AF118107   ATGACCACCACACGCCCCGCGTGGGCCTATACGCTGCCGGCAGCACTGCTGCTGATGGCTCCTTTCGACATCCTCGCTTCACTGGCGATGGATATTTATCTCCCTGTCGTTCCAGCGATGCCCGGCATCCTGAACACGACGCCCGCTATGATCCAACTCACGTTGAGCCTCTATATGGTGATGCTCGGCGTGGGCCAGGTGATTTTTGGTCCGCTCTCAGACAGAATCGGGCGACGGCCAATTCTACTTGCGGGCGCAACGGCTTTCGTCATTGCGTCTCTGGGAGCAGCTTGGTCTTCAACTGCACCGGCCTTTGTCGCTTTCCGTCTACTTCAAGCAGTGGGCGCGTCGGCCATGCTGGTGGCGACGTTCGCGACGGTTCGCGACGTTTATGCCAACCGTCCTGAGGGTGTCGTCATCTACGGCCTTTTCAGTTCGATGCTGGCGTTCGTGCCTGCGCTCGGCCCTATCGCCGGAGCATTGATCGGCGAGTTCTTGGGATGGCAGGCGATATTCATTACTTTGGCTATACTGGCGATGCTCGCACTCCTAAATGCGGGTTTCAGGTGGCACGAAACCCGCCCTCTGGATCAAGTCAAGACGCGCCGATCTGTCTTGCCGATCTTCGCGAGTCCGGCTTTTTGGGTTTACACTGTCGGCTTTAGCGCCGGTATGGGCACCTACTTCGTCTTCTTCTCGACGGCTCCCCGTGTGCTCATAGGCCAAGCGGAATATTCCGAGATCGGATTCAGCTTTGCCTTCGCCACTGTCGCGCTTGTAATGATCGTGACAACCCGTTTCGCGAAGTCCTTTGTCGCCAGATGGGGCATCGCAGGATGCGTGGCGCGTGGGATGGCGTTGCTTGTTTGCGGAGCGGTCCTGTTGGGGATCGGCGAACTTTACGGCTCGCCGTCATTCCTCACCTTCATCCTACCGATGTGGGTTGTCGCGGTCGGTATTGTCTTCACGGTGTCCGTTACCGCGAACGGCGCTTTGGCAGAGTTCGACGACATCGCGGGATCAGCGGTCGCGTTCTACTTCTGCGTTCAAAGCCTGATAGTCAGCATTGTCGGGACATTGGCGGTGGCACTTTTAAACGATGACACAGCGTGGCCCGTGATCTGTTACGCCACGGCGATGGCGGTACTGGTTTCGTTGGGGCTGGTGCTCCTTCGGCTCCGTGGGGCTGCCACCGAGAAGTCGCCAGTCGTCTA\n",
      "GCF_001931595.1  sul1         sulfisoxazole            100.00     100.00    840/840                  ref|NZ_CP016411.1|  159156  159995  U12338     ATGGTGACGGTGTTCGGCATTCTGAATCTCACCGAGGACTCCTTCTTCGATGAGAGCCGGCGGCTAGACCCCGCCGGCGCTGTCACCGCGGCGATCGAAATGCTGCGAGTCGGATCAGACGTCGTGGATGTCGGACCGGCCGCCAGCCATCCGGACGCGAGGCCTGTATCGCCGGCCGATGAGATCAGACGTATTGCGCCGCTCTTAGACGCCCTGTCCGATCAGATGCACCGTGTTTCAATCGACAGCTTCCAACCGGAAACCCAGCGCTATGCGCTCAAGCGCGGCGTGGGCTACCTGAACGATATCCAAGGATTTCCTGACCCTGCGCTCTATCCCGATATTGCTGAGGCGGACTGCAGGCTGGTGGTTATGCACTCAGCGCAGCGGGATGGCATCGCCACCCGCACCGGTCACCTTCGACCCGAAGACGCGCTCGACGAGATTGTGCGGTTCTTCGAGGCGCGGGTTTCCGCCTTGCGACGGAGCGGGGTCGCTGCCGACCGGCTCATCCTCGATCCGGGGATGGGATTTTTCTTGAGCCCCGCACCGGAAACATCGCTGCACGTGCTGTCGAACCTTCAAAAGCTGAAGTCGGCGTTGGGGCTTCCGCTATTGGTCTCGGTGTCGCGGAAATCCTTCTTGGGCGCCACCGTTGGCCTTCCTGTAAAGGATCTGGGTCCAGCGAGCCTTGCGGCGGAACTTCACGCGATCGGCAATGGCGCTGACTACGTCCGCACCCACGCGCCTGGAGATCTGCGAAGCGCAATCACCTTCTCGGAAACCCTCGCGAAATTTCGCAGTCGCGACGCCAGAGACCGAGGGTTAGATCATGCCTAG\n",
      "GCF_001931595.1  tet(A)       tetracycline             100.00     100.00    1200/1200                ref|NZ_CP016411.1|  172512  173711  AJ517790   GTGAAACCCAACAGACCCCTGATCGTAATTCTGAGCACTGTCGCGCTCGACGCTGTCGGCATCGGCCTGATTATGCCGGTGCTGCCGGGCCTCCTGCGCGATCTGGTTCACTCGAACGACGTCACCGCCCACTATGGCATTCTGCTGGCGCTGTATGCGTTGATGCAATTTGCCTGCGCACCTGTGCTGGGCGCGCTGTCGGATCGTTTCGGGCGGCGGCCGGTCTTGCTCGTCTCGCTGGCCGGCGCTGCTGTCGACTACGCCATCATGGCGACGGCGCCTTTCCTTTGGGTTCTCTATATCGGGCGGATCGTGGCCGGCATCACCGGGGCGACTGGGGCGGTAGCCGGCGCTTATATTGCCGATATCACTGATGGCGATGAGCGCGCGCGGCACTTCGGCTTCATGAGCGCCTGTTTCGGGTTCGGGATGGTCGCGGGACCTGTGCTCGGTGGGCTGATGGGCGGTTTCTCCCCCCACGCTCCGTTCTTCGCCGCGGCAGCCTTGAACGGCCTCAATTTCCTGACGGGCTGTTTCCTTTTGCCGGAGTCGCACAAAGGCGAACGCCGGCCGTTACGCCGGGAGGCTCTCAACCCGCTCGCTTCGTTCCGGTGGGCCCGGGGCATGACCGTCGTCGCCGCCCTGATGGCGGTCTTCTTCATCATGCAACTTGTCGGACAGGTGCCGGCCGCGCTTTGGGTCATTTTCGGCGAGGATCGCTTTCACTGGGACGCGACCACGATCGGCATTTCGCTTGCCGCATTTGGCATTCTGCATTCACTCGCCCAGGCAATGATCACCGGCCCTGTAGCCGCCCGGCTCGGCGAAAGGCGGGCACTCATGCTCGGAATGATTGCCGACGGCACAGGCTACATCCTGCTTGCCTTCGCGACACGGGGATGGATGGCGTTCCCGATCATGGTCCTGCTTGCTTCGGGTGGCATCGGAATGCCGGCGCTGCAAGCAATGTTGTCCAGGCAGGTGGATGAGGAACGTCAGGGGCAGCTGCAAGGCTCACTGGCGGCGCTCACCAGCCTGACCTCGATCGTCGGACCCCTCCTCTTCACGGCGATCTATGCGGCTTCTATAACAACGTGGAACGGGTGGGCATGGATTGCAGGCGCTGCCCTCTACTTGCTCTGCCTGCCGGCGCTGCGTCGCGGGCTTTGGAGCGGCGCAGGGCAACGAGCCGATCGCTGA\n",
      "(staramr) \n"
     ]
    },
    {
     "ename": "",
     "evalue": "1",
     "output_type": "error",
     "traceback": []
    }
   ],
   "source": [
    "# Show all columns\n",
    "column -s$'\\t' -t out/resfinder.tsv"
   ]
  },
  {
   "cell_type": "code",
   "execution_count": 16,
   "metadata": {},
   "outputs": [
    {
     "name": "stdout",
     "output_type": "stream",
     "text": [
      "(staramr) \n",
      "Isolate ID       Gene         %Identity  %Overlap  HSP Length/Total Length  Contig\n",
      "GCF_001931595.1  aac(3)-IV    100.00     100.00    777/777                  ref|NZ_CP016411.1|\n",
      "GCF_001931595.1  aph(3')-Ia   100.00     100.00    816/816                  ref|NZ_CP016411.1|\n",
      "GCF_001931595.1  aph(4)-Ia    100.00     100.00    1026/1026                ref|NZ_CP016411.1|\n",
      "GCF_001931595.1  blaCTX-M-65  100.00     100.00    876/876                  ref|NZ_CP016411.1|\n",
      "GCF_001931595.1  dfrA14       100.00     100.00    474/474                  ref|NZ_CP016411.1|\n",
      "GCF_001931595.1  floR         98.19      99.92     1214/1215                ref|NZ_CP016411.1|\n",
      "GCF_001931595.1  sul1         100.00     100.00    840/840                  ref|NZ_CP016411.1|\n",
      "GCF_001931595.1  tet(A)       100.00     100.00    1200/1200                ref|NZ_CP016411.1|\n",
      "(staramr) \n"
     ]
    },
    {
     "ename": "",
     "evalue": "1",
     "output_type": "error",
     "traceback": []
    }
   ],
   "source": [
    "# Show a subset of columns\n",
    "cut -f 1,2,4,5,6,7 out/resfinder.tsv | column -s$'\\t' -t"
   ]
  },
  {
   "cell_type": "markdown",
   "metadata": {},
   "source": [
    "This shows all the BLAST hits to the **ResFinder** database, each hit on a single line."
   ]
  },
  {
   "cell_type": "code",
   "execution_count": 17,
   "metadata": {},
   "outputs": [
    {
     "name": "stdout",
     "output_type": "stream",
     "text": [
      "(staramr) \n",
      "Isolate ID       Gene         Predicted Phenotype                Type   Position  Mutation             %Identity  %Overlap  HSP Length/Total Length  Contig              Start    End      Pointfinder Position\n",
      "GCF_001931595.1  gyrA (D87Y)  ciprofloxacin I/R, nalidixic acid  codon  87        GAC -> TAC (D -> Y)  99.43      100.00    2637/2637                ref|NZ_CP016410.1|  1597907  1600543  D87Y\n",
      "GCF_001931595.1  parC (T57S)  None                               codon  57        ACC -> AGC (T -> S)  98.27      100.00    2259/2259                ref|NZ_CP016410.1|  3809941  3807683  T57S\n",
      "(staramr) \n"
     ]
    },
    {
     "ename": "",
     "evalue": "1",
     "output_type": "error",
     "traceback": []
    }
   ],
   "source": [
    "# Show all columns\n",
    "column -s$'\\t' -t out/pointfinder.tsv"
   ]
  },
  {
   "cell_type": "code",
   "execution_count": 18,
   "metadata": {},
   "outputs": [
    {
     "name": "stdout",
     "output_type": "stream",
     "text": [
      "(staramr) \n",
      "Isolate ID       Gene         Position  Mutation             %Identity  %Overlap  Contig\n",
      "GCF_001931595.1  gyrA (D87Y)  87        GAC -> TAC (D -> Y)  99.43      100.00    ref|NZ_CP016410.1|\n",
      "GCF_001931595.1  parC (T57S)  57        ACC -> AGC (T -> S)  98.27      100.00    ref|NZ_CP016410.1|\n",
      "(staramr) \n"
     ]
    },
    {
     "ename": "",
     "evalue": "1",
     "output_type": "error",
     "traceback": []
    }
   ],
   "source": [
    "# Show a subset of columns\n",
    "cut -f 1,2,5,6,7,8,10 out/pointfinder.tsv | column -s$'\\t' -t"
   ]
  },
  {
   "cell_type": "markdown",
   "metadata": {},
   "source": [
    "This shows all the aquired point mutations and plasmids genes leading to antimicrobial resistance, one per line."
   ]
  },
  {
   "cell_type": "code",
   "execution_count": 19,
   "metadata": {},
   "outputs": [
    {
     "name": "stdout",
     "output_type": "stream",
     "text": [
      "(staramr) \n",
      "Isolate ID       Plasmid          %Identity  %Overlap  HSP Length/Total Length  Contig              Start  End  Accession\n",
      "GCF_001931595.1  IncFIB(pN55391)  100.00     100.00    560/560                  ref|NZ_CP016411.1|  859    300  CP016411\n",
      "(staramr) \n"
     ]
    },
    {
     "ename": "",
     "evalue": "1",
     "output_type": "error",
     "traceback": []
    }
   ],
   "source": [
    "# Show all columns\n",
    "column -s$'\\t' -t out/plasmidfinder.tsv"
   ]
  },
  {
   "cell_type": "code",
   "execution_count": 20,
   "metadata": {},
   "outputs": [
    {
     "name": "stdout",
     "output_type": "stream",
     "text": [
      "(staramr) \n",
      "Isolate ID       Plasmid          %Overlap  HSP Length/Total Length  Contig\n",
      "GCF_001931595.1  IncFIB(pN55391)  100.00    560/560                  ref|NZ_CP016411.1|\n",
      "(staramr) \n"
     ]
    },
    {
     "ename": "",
     "evalue": "1",
     "output_type": "error",
     "traceback": []
    }
   ],
   "source": [
    "# Show a subset of columns\n",
    "cut -f 1,2,4,5,6 out/plasmidfinder.tsv | column -s$'\\t' -t"
   ]
  },
  {
   "cell_type": "markdown",
   "metadata": {},
   "source": [
    "This shows all the plasmid types that were detected in the genomes."
   ]
  },
  {
   "cell_type": "code",
   "execution_count": 21,
   "metadata": {},
   "outputs": [
    {
     "name": "stdout",
     "output_type": "stream",
     "text": [
      "(staramr) \n",
      "Isolate ID       Scheme               Sequence Type  Locus 1   Locus 2   Locus 3   Locus 4   Locus 5  Locus 6   Locus 7\n",
      "GCF_001931595.1  senterica_achtman_2  32             aroC(17)  dnaN(18)  hemD(22)  hisD(17)  purE(5)  sucA(21)  thrA(19)\n",
      "(staramr) \n"
     ]
    },
    {
     "ename": "",
     "evalue": "1",
     "output_type": "error",
     "traceback": []
    }
   ],
   "source": [
    "# Show all columns\n",
    "column -s$'\\t' -t out/mlst.tsv"
   ]
  },
  {
   "cell_type": "markdown",
   "metadata": {},
   "source": [
    "This shows all of the matched sequence types for a particular organism in the genomes."
   ]
  },
  {
   "cell_type": "markdown",
   "metadata": {},
   "source": [
    "The **detailed_summary.tsv** file contains a summary of all the results in a single table, where all genes found were shown per line and where it was found from either ResFinder, PlasmidFinder, or PointFinder."
   ]
  },
  {
   "cell_type": "code",
   "execution_count": null,
   "metadata": {},
   "outputs": [
    {
     "name": "stdout",
     "output_type": "stream",
     "text": [
      "(staramr) \n"
     ]
    }
   ],
   "source": [
    "# Show all columns\n",
    "column -s$'\\t' -t -n out/detailed_summary.tsv"
   ]
  },
  {
   "cell_type": "code",
   "execution_count": null,
   "metadata": {},
   "outputs": [],
   "source": [
    "# Show a subset of columns\n",
    "cut -f 1,2,4,7,11 out/detailed_summary.tsv | column -s$'\\t' -t -n"
   ]
  },
  {
   "cell_type": "code",
   "execution_count": null,
   "metadata": {},
   "outputs": [],
   "source": [
    "cat out/settings.txt"
   ]
  },
  {
   "cell_type": "markdown",
   "metadata": {},
   "source": [
    "This shows the command-line options used to run `staramr`, runtime, as well as the **ResFinder**,**PointFinder**, and **PlasmidFinder** database versions."
   ]
  },
  {
   "cell_type": "code",
   "execution_count": 26,
   "metadata": {},
   "outputs": [
    {
     "name": "stdout",
     "output_type": "stream",
     "text": [
      "plasmidfinder_GCF_001478105.1.fasta  resfinder_GCF_001478105.1.fasta\n",
      "pointfinder_GCF_001931595.1.fasta    resfinder_GCF_001931595.1.fasta\n"
     ]
    }
   ],
   "source": [
    "ls out/hits"
   ]
  },
  {
   "cell_type": "markdown",
   "metadata": {},
   "source": [
    "This directory contains all the BLAST hits that were found in the `out/{resfinder,pointfinder,plasmidfinder}.tsv` files, in FASTA format."
   ]
  },
  {
   "cell_type": "code",
   "execution_count": 27,
   "metadata": {},
   "outputs": [
    {
     "name": "stdout",
     "output_type": "stream",
     "text": [
      ">aph(3')-Ia_7_X62115 isolate: GCF_001931595.1, contig: ref|NZ_CP016411.1|, contig_start: 300747, contig_end: 301562, database_gene_start: 1, database_gene_end: 816, hsp/length: 816/816, pid: 100.00%, plength: 100.00%\n",
      "ATGAGCCATATTCAACGGGAAACGTCTTGCTCGAGGCCGCGATTAAATTCCAACCTGGAT\n",
      "GCTGATTTATATGGGTATAGATGGGCTCGCGATAATGTCGGGCAATCAGGTGCGACAATC\n",
      "TATCGATTGTATGGGAAGCCCAATGCGCCAGAGTTGTTTCTGAAACATGGCAAAGGTAGC\n",
      "GTTGCCAATGATGTTACAGATGAGATGGTCAGACTAAACTGGCTGACGGCATTTATGCCT\n",
      "CTTCCGACCATCAAGCATTTTATCCGTACTCCTGATGATGCATGGTTACTCACCACTGCG\n",
      "ATCCCCGGGAAAACAGCATTCCAGGTATTAGAAGAATATCCTGATTCAGGTGAAAATATT\n",
      "GTTGATGCGCTGGCAGTGTTCCTGCGCCGGTTGCATTCGATTCCTGTTTGTAATTGTCCT\n",
      "TTTAACAGCGATCGCGTATTTCGTCTCGCTCAGGCGCAATCACGAATGAATAACGGTTTG\n",
      "GTTGATGCTAGTGATTTTGATGACGAGCGTAATGGCTGGCCTGTTGAACAAGTCTGGAAA\n"
     ]
    }
   ],
   "source": [
    "head out/hits/resfinder_GCF_001931595.1.fasta"
   ]
  },
  {
   "cell_type": "markdown",
   "metadata": {},
   "source": [
    "## Step 4: Validation\n",
    "\n",
    "Let's look back at our **summary.tsv** file."
   ]
  },
  {
   "cell_type": "code",
   "execution_count": 28,
   "metadata": {},
   "outputs": [
    {
     "name": "stdout",
     "output_type": "stream",
     "text": [
      "Isolate ID       Genotype\n",
      "GCF_001478105.1  blaCMY-2\n",
      "GCF_001931595.1  aac(3)-IVa, aph(3')-Ia, aph(4)-Ia, blaCTX-M-65, dfrA14, floR, gyrA (D87Y), sul1, tet(A)\n"
     ]
    }
   ],
   "source": [
    "# Show only Genotype\n",
    "cut -f 1,2 out/summary.tsv | column -s$'\\t' -t"
   ]
  },
  {
   "cell_type": "code",
   "execution_count": 29,
   "metadata": {},
   "outputs": [
    {
     "name": "stdout",
     "output_type": "stream",
     "text": [
      "Isolate ID       Predicted Phenotype\n",
      "GCF_001478105.1  ampicillin, amoxicillin/clavulanic acid, cefoxitin, ceftriaxone\n",
      "GCF_001931595.1  gentamicin, kanamycin, hygromicin, ampicillin, ceftriaxone, trimethoprim, chloramphenicol, ciprofloxacin I/R, nalidixic acid, sulfisoxazole, tetracycline\n"
     ]
    }
   ],
   "source": [
    "# Show only Predicted Phenotype\n",
    "cut -f 1,3 out/summary.tsv | column -s$'\\t' -t"
   ]
  },
  {
   "cell_type": "markdown",
   "metadata": {},
   "source": [
    "We can validate these results by comparing them to this drugs and AMR resistances available from NCBI.  Let's take a look:\n",
    "\n",
    "### GCF_001478105.1\n",
    "\n",
    "#### Genotypes\n",
    "\n",
    "For **GCF_001478105.1** we can find the detected AMR genes by NCBI at <https://www.ncbi.nlm.nih.gov/pathogens/isolates/#/search/GCA_001478105.1>.  From here we see that `blaCMY-2` is listed under the **AMR geneotypes** column, which exactly matches what we see from `staramr`.\n",
    "\n",
    "#### Predicted Phenotypes\n",
    "\n",
    "The phenotypes are also in this same table under **AST Phenotypes** (or at <https://www.ncbi.nlm.nih.gov/biosample/SAMN02699230/>). This contains the list: `amoxicillin-clavulanic acid, ampicillin, cefoxitin, ceftiofur, ceftriaxone`. Comparing to the results from `staramr` we can see that `staramr` is missing `ceftiofur`.\n",
    "\n",
    "### GCF_001931595.1\n",
    "\n",
    "#### Genotypes\n",
    "\n",
    "For **GCA_001931595.1** we can find the detected AMR genes by NCBI at <https://www.ncbi.nlm.nih.gov/pathogens/isolates/#/search/GCA_001931595.1>.  From here we see that `aac(3)-IV, aph(3')-Ia, aph(4)-Ia, blaCTX-M-65, dfrA14, floR, sul1, tet(A)` are listed under the **AMR geneotypes** column. When compared to `staramr`, it looks like `staramr` has one additional gene, mainly `gyrA (D87Y)`, which is a point mutation resistance. Also in `staramr` we have `aac(3)-IVa` instead of `aac(3)-IV`.\n",
    "\n",
    "#### Predicted Phenotypes\n",
    "\n",
    "The phenotypes are also in this same table under **AST Phenotypes** (or at <https://www.ncbi.nlm.nih.gov/biosample/SAMN03988471>). This contains the list (when including the *Intermediate* category): `ampicillin, ceftiofur, ceftriaxone, chloramphenicol, nalidixic acid, tetracycline, ciprofloxacin, gentamicin`. Comparing to the results from `staramr` we can see that `staramr` is missing `ceftiofur`, and `staramr` additionally includes `kanamycin, hygromicin, trimethoprim, sulfisoxazole`.\n",
    "\n",
    "Overall, `staramr` matches pretty closely to what is found on NCBI for these genomes, but the differences observed here highlights the need for additional testing and development of the software and databases, which is an ongoing effort."
   ]
  }
 ],
 "metadata": {
  "kernelspec": {
   "display_name": "Bash",
   "language": "bash",
   "name": "bash"
  },
  "language_info": {
   "codemirror_mode": "shell",
   "file_extension": ".sh",
   "mimetype": "text/x-sh",
   "name": "bash"
  }
 },
 "nbformat": 4,
 "nbformat_minor": 4
}
